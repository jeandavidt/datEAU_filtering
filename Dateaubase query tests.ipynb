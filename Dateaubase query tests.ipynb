{
 "cells": [
  {
   "cell_type": "code",
   "execution_count": 1,
   "metadata": {},
   "outputs": [],
   "source": [
    "from Dateaubase import *"
   ]
  },
  {
   "cell_type": "code",
   "execution_count": 2,
   "metadata": {},
   "outputs": [],
   "source": [
    "cursor, conn = create_connection()"
   ]
  },
  {
   "cell_type": "code",
   "execution_count": 3,
   "metadata": {},
   "outputs": [],
   "source": [
    "import pandas as pd"
   ]
  },
  {
   "cell_type": "code",
   "execution_count": 45,
   "metadata": {},
   "outputs": [],
   "source": [
    "location = 'Primary settling tank effluent'\n",
    "project = 'pilEAUte'\n",
    "equipment = 'Spectro_010'\n",
    "parameter = 'COD'\n",
    "query ='''SELECT  MIN(dbo.value.Timestamp), MAX(dbo.value.Timestamp)\n",
    "FROM dbo.parameter\n",
    "left outer join dbo.metadata on dbo.parameter.Parameter_ID = dbo.metadata.Parameter_ID \n",
    "left outer join dbo.value on dbo.value.Metadata_ID = dbo.metadata.Metadata_ID\n",
    "left outer join dbo.unit on dbo.parameter.Unit_ID = dbo.unit.Unit_ID\n",
    "left outer join dbo.equipment on dbo.metadata.Equipment_ID = dbo.equipment.Equipment_ID\n",
    "left outer join dbo.sampling_points on dbo.metadata.Sampling_point_ID = dbo.sampling_points.Sampling_point_ID\n",
    "left outer join dbo.project on dbo.metadata.Project_ID = dbo.project.Project_ID\n",
    "WHERE dbo.sampling_points.Sampling_location = \\'{}\\'\n",
    "AND dbo.parameter.Parameter = \\'{}\\'\n",
    "AND dbo.equipment.Equipment_identifier = \\'{}\\'\n",
    "AND dbo.project.Project_name = \\'{}\\';\n",
    "'''.format(location, parameter,equipment, project)"
   ]
  },
  {
   "cell_type": "code",
   "execution_count": 10,
   "metadata": {},
   "outputs": [
    {
     "name": "stdout",
     "output_type": "stream",
     "text": [
      "            Parameter Equipment_identifier               Sampling_location\n",
      "0         Temperature              TIT-312   Copilore internal recycle OUT\n",
      "1               NH4-N           Varion_001               Copilote effluent\n",
      "2               NO3-N           Varion_001               Copilote effluent\n",
      "3                   K           Varion_001               Copilote effluent\n",
      "4           Turbidity             TurbR300               Copilote effluent\n",
      "5   Flowrate (Liquid)              FIT-120               Copilote influent\n",
      "6   Flowrate (Liquid)              FIT-350    Copilote internal recycle IN\n",
      "7         Temperature              TIT-311    Copilote internal recycle IN\n",
      "8                 TSS              AIT-340              Copilote reactor 2\n",
      "9      Flowrate (Gas)              FCV-440              Copilote reactor 3\n",
      "10     Flowrate (Gas)              FIT-440              Copilote reactor 3\n",
      "11     Flowrate (Gas)              FIT-450              Copilote reactor 4\n",
      "12     Flowrate (Gas)              FCV-450              Copilote reactor 4\n",
      "13                 DO              AIT-341              Copilote reactor 4\n",
      "14     Flowrate (Gas)              FCV-460              Copilote reactor 5\n",
      "15     Flowrate (Gas)              FIT-460              Copilote reactor 5\n",
      "16  Flowrate (Liquid)              FIT-360         Copilote sludge recycle\n",
      "17                TSS              AIT-360         Copilote sludge recycle\n",
      "18  Flowrate (Liquid)              FIT-021            Copilote wet weather\n",
      "19              NH4-N           Varion_002                 Pilote effluent\n",
      "20              NO3-N           Varion_002                 Pilote effluent\n",
      "21                  K           Varion_002                 Pilote effluent\n",
      "22                 pH               pH_011                 Pilote effluent\n",
      "23        Temperature               pH_011                 Pilote effluent\n",
      "24          Turbidity             TurbR200                 Pilote effluent\n",
      "25  Flowrate (Liquid)              FIT-110                 Pilote influent\n",
      "26  Flowrate (Liquid)              FIT-250      Pilote internal recycle IN\n",
      "27        Temperature              TIT-211      Pilote internal recycle IN\n",
      "28        Temperature              TIT-212     Pilote internal recycle OUT\n",
      "29                TSS              AIT-240                Pilote reactor 2\n",
      "30     Flowrate (Gas)              FCV-410                Pilote reactor 3\n",
      "31     Flowrate (Gas)              FIT-410                Pilote reactor 3\n",
      "32     Flowrate (Gas)              FIT-420                Pilote reactor 4\n",
      "33     Flowrate (Gas)              FCV-420                Pilote reactor 4\n",
      "34                 DO              AIT-241                Pilote reactor 4\n",
      "35     Flowrate (Gas)              FCV-430                Pilote reactor 5\n",
      "36     Flowrate (Gas)              FIT-430                Pilote reactor 5\n",
      "37                TSS              AIT-260           Pilote sludge recycle\n",
      "38  Flowrate (Liquid)              FIT-260           Pilote sludge recycle\n",
      "39  Flowrate (Liquid)              FIT-011              Pilote wet weather\n",
      "40       Conductivity              AIT-110  Primary settling tank effluent\n",
      "41        Temperature              AIT-110  Primary settling tank effluent\n",
      "42              NO3-N          Spectro_010  Primary settling tank effluent\n",
      "43                COD          Spectro_010  Primary settling tank effluent\n",
      "44               CODf          Spectro_010  Primary settling tank effluent\n",
      "45                TSS          Spectro_010  Primary settling tank effluent\n",
      "46                 pH             Ammo_005  Primary settling tank effluent\n",
      "47              NH4-N             Ammo_005  Primary settling tank effluent\n",
      "48                  K             Ammo_005  Primary settling tank effluent\n",
      "49        Temperature             Ammo_005  Primary settling tank effluent\n",
      "50              NH4-N           Varion_003  Primary settling tank effluent\n",
      "51              NO3-N           Varion_003  Primary settling tank effluent\n",
      "52                  K           Varion_003  Primary settling tank effluent\n",
      "53              NH4-N           Varion_005  Primary settling tank effluent\n",
      "54              NO3-N           Varion_005  Primary settling tank effluent\n",
      "55       Conductivity          Conduct_011  Primary settling tank effluent\n",
      "56        Temperature          Conduct_011  Primary settling tank effluent\n",
      "57        Temperature              TIT-111  Primary settling tank effluent\n",
      "58             Height              LIT-100  Primary settling tank influent\n",
      "59  Flowrate (Liquid)              FIT-100  Primary settling tank influent\n"
     ]
    }
   ],
   "source": [
    "project='pilEAUte'\n",
    "\n",
    "query = '''\n",
    "    SELECT\n",
    "    dbo.parameter.Parameter,\n",
    "    dbo.equipment.Equipment_identifier,\n",
    "    dbo.sampling_points.Sampling_location\n",
    "    \n",
    "    FROM dbo.parameter\n",
    "    left outer join dbo.equipment_model_has_parameter on dbo.equipment_model_has_parameter.Parameter_ID = dbo.parameter.Parameter_ID\n",
    "    left outer join dbo.equipment_model on dbo.equipment_model.Equipment_model_ID = dbo.equipment_model_has_parameter.Equipment_model_ID\n",
    "    left outer join dbo.equipment on dbo.equipment.Equipment_model_ID = dbo.equipment_model.Equipment_model_ID\n",
    "    left outer join dbo.equipment_has_sampling_points on dbo.equipment_has_sampling_points.Equipment_ID = dbo.equipment.Equipment_ID\n",
    "    left outer join dbo.sampling_points on dbo.sampling_points.Sampling_point_ID = dbo.equipment_has_sampling_points.Sampling_point_ID\n",
    "    left outer join dbo.project_has_sampling_points on dbo.project_has_sampling_points.Sampling_point_ID = dbo.sampling_points.Sampling_point_ID\n",
    "    left outer join dbo.project on dbo.project.Project_ID = dbo.project_has_sampling_points.Project_ID\n",
    "    WHERE\n",
    "    dbo.project.Project_name = \\'{}\\'\n",
    "    ORDER BY dbo.sampling_points.Sampling_location;\n",
    "    '''.format(project)\n",
    "test = pd.read_sql(query, conn)\n",
    "print(test)\n",
    "test.to_csv('pileaute_params.csv')"
   ]
  },
  {
   "cell_type": "code",
   "execution_count": 46,
   "metadata": {},
   "outputs": [
    {
     "name": "stdout",
     "output_type": "stream",
     "text": [
      "2016-03-23 05:21:30\n",
      "2018-05-24 08:32:00\n"
     ]
    }
   ],
   "source": [
    "df = pd.read_sql(query, conn)\n",
    "df.columns=['first','last']\n",
    "first = epoch_to_pandas_datetime(df.at[0,'first'])\n",
    "last = epoch_to_pandas_datetime(df.at[0,'last'])\n",
    "print(first)\n",
    "print(last)"
   ]
  },
  {
   "cell_type": "code",
   "execution_count": 47,
   "metadata": {},
   "outputs": [
    {
     "data": {
      "text/plain": [
       "1527165120"
      ]
     },
     "execution_count": 47,
     "metadata": {},
     "output_type": "execute_result"
    }
   ],
   "source": [
    "df.iat[0,1]"
   ]
  },
  {
   "cell_type": "code",
   "execution_count": 48,
   "metadata": {},
   "outputs": [
    {
     "data": {
      "text/plain": [
       "1458724890"
      ]
     },
     "execution_count": 48,
     "metadata": {},
     "output_type": "execute_result"
    }
   ],
   "source": [
    "df.at[0,'first']"
   ]
  },
  {
   "cell_type": "code",
   "execution_count": 21,
   "metadata": {},
   "outputs": [],
   "source": [
    "first = epoch_to_pandas_datetime(pd.read_sql(query, conn).to_numpy()[0][1])"
   ]
  },
  {
   "cell_type": "code",
   "execution_count": 22,
   "metadata": {},
   "outputs": [
    {
     "data": {
      "text/plain": [
       "Timestamp('2016-03-23 05:21:30')"
      ]
     },
     "execution_count": 22,
     "metadata": {},
     "output_type": "execute_result"
    }
   ],
   "source": [
    "first"
   ]
  },
  {
   "cell_type": "code",
   "execution_count": 16,
   "metadata": {},
   "outputs": [],
   "source": [
    "last = epoch_to_pandas_datetime(pd.read_sql(query, conn).to_numpy()[0][0])"
   ]
  },
  {
   "cell_type": "code",
   "execution_count": 17,
   "metadata": {},
   "outputs": [
    {
     "data": {
      "text/plain": [
       "Timestamp('2018-05-24 08:32:00')"
      ]
     },
     "execution_count": 17,
     "metadata": {},
     "output_type": "execute_result"
    }
   ],
   "source": [
    "last"
   ]
  },
  {
   "cell_type": "code",
   "execution_count": null,
   "metadata": {},
   "outputs": [],
   "source": []
  }
 ],
 "metadata": {
  "kernelspec": {
   "display_name": "Python 3",
   "language": "python",
   "name": "python3"
  },
  "language_info": {
   "codemirror_mode": {
    "name": "ipython",
    "version": 3
   },
   "file_extension": ".py",
   "mimetype": "text/x-python",
   "name": "python",
   "nbconvert_exporter": "python",
   "pygments_lexer": "ipython3",
   "version": "3.7.3"
  }
 },
 "nbformat": 4,
 "nbformat_minor": 4
}
