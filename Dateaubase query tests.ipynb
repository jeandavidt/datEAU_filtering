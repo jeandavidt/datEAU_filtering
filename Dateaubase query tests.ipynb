{
 "cells": [
  {
   "cell_type": "code",
   "execution_count": 1,
   "metadata": {},
   "outputs": [],
   "source": [
    "from Dateaubase import *"
   ]
  },
  {
   "cell_type": "code",
   "execution_count": 2,
   "metadata": {},
   "outputs": [],
   "source": [
    "cursor, conn = create_connection()"
   ]
  },
  {
   "cell_type": "code",
   "execution_count": 4,
   "metadata": {},
   "outputs": [],
   "source": [
    "import pandas as pd"
   ]
  },
  {
   "cell_type": "code",
   "execution_count": 45,
   "metadata": {},
   "outputs": [],
   "source": [
    "location = 'Primary settling tank effluent'\n",
    "project = 'pilEAUte'\n",
    "equipment = 'Spectro_010'\n",
    "parameter = 'COD'\n",
    "query ='''SELECT  MIN(dbo.value.Timestamp), MAX(dbo.value.Timestamp)\n",
    "FROM dbo.parameter\n",
    "left outer join dbo.metadata on dbo.parameter.Parameter_ID = dbo.metadata.Parameter_ID \n",
    "left outer join dbo.value on dbo.value.Metadata_ID = dbo.metadata.Metadata_ID\n",
    "left outer join dbo.unit on dbo.parameter.Unit_ID = dbo.unit.Unit_ID\n",
    "left outer join dbo.equipment on dbo.metadata.Equipment_ID = dbo.equipment.Equipment_ID\n",
    "left outer join dbo.sampling_points on dbo.metadata.Sampling_point_ID = dbo.sampling_points.Sampling_point_ID\n",
    "left outer join dbo.project on dbo.metadata.Project_ID = dbo.project.Project_ID\n",
    "WHERE dbo.sampling_points.Sampling_location = \\'{}\\'\n",
    "AND dbo.parameter.Parameter = \\'{}\\'\n",
    "AND dbo.equipment.Equipment_identifier = \\'{}\\'\n",
    "AND dbo.project.Project_name = \\'{}\\';\n",
    "'''.format(location, parameter,equipment, project)"
   ]
  },
  {
   "cell_type": "code",
   "execution_count": 46,
   "metadata": {},
   "outputs": [
    {
     "name": "stdout",
     "output_type": "stream",
     "text": [
      "2016-03-23 05:21:30\n",
      "2018-05-24 08:32:00\n"
     ]
    }
   ],
   "source": [
    "df = pd.read_sql(query, conn)\n",
    "df.columns=['first','last']\n",
    "first = epoch_to_pandas_datetime(df.at[0,'first'])\n",
    "last = epoch_to_pandas_datetime(df.at[0,'last'])\n",
    "print(first)\n",
    "print(last)"
   ]
  },
  {
   "cell_type": "code",
   "execution_count": 47,
   "metadata": {},
   "outputs": [
    {
     "data": {
      "text/plain": [
       "1527165120"
      ]
     },
     "execution_count": 47,
     "metadata": {},
     "output_type": "execute_result"
    }
   ],
   "source": [
    "df.iat[0,1]"
   ]
  },
  {
   "cell_type": "code",
   "execution_count": 48,
   "metadata": {},
   "outputs": [
    {
     "data": {
      "text/plain": [
       "1458724890"
      ]
     },
     "execution_count": 48,
     "metadata": {},
     "output_type": "execute_result"
    }
   ],
   "source": [
    "df.at[0,'first']"
   ]
  },
  {
   "cell_type": "code",
   "execution_count": 21,
   "metadata": {},
   "outputs": [],
   "source": [
    "first = epoch_to_pandas_datetime(pd.read_sql(query, conn).to_numpy()[0][1])"
   ]
  },
  {
   "cell_type": "code",
   "execution_count": 22,
   "metadata": {},
   "outputs": [
    {
     "data": {
      "text/plain": [
       "Timestamp('2016-03-23 05:21:30')"
      ]
     },
     "execution_count": 22,
     "metadata": {},
     "output_type": "execute_result"
    }
   ],
   "source": [
    "first"
   ]
  },
  {
   "cell_type": "code",
   "execution_count": 16,
   "metadata": {},
   "outputs": [],
   "source": [
    "last = epoch_to_pandas_datetime(pd.read_sql(query, conn).to_numpy()[0][0])"
   ]
  },
  {
   "cell_type": "code",
   "execution_count": 17,
   "metadata": {},
   "outputs": [
    {
     "data": {
      "text/plain": [
       "Timestamp('2018-05-24 08:32:00')"
      ]
     },
     "execution_count": 17,
     "metadata": {},
     "output_type": "execute_result"
    }
   ],
   "source": [
    "last"
   ]
  },
  {
   "cell_type": "code",
   "execution_count": null,
   "metadata": {},
   "outputs": [],
   "source": []
  }
 ],
 "metadata": {
  "kernelspec": {
   "display_name": "Python 3",
   "language": "python",
   "name": "python3"
  },
  "language_info": {
   "codemirror_mode": {
    "name": "ipython",
    "version": 3
   },
   "file_extension": ".py",
   "mimetype": "text/x-python",
   "name": "python",
   "nbconvert_exporter": "python",
   "pygments_lexer": "ipython3",
   "version": "3.7.3"
  }
 },
 "nbformat": 4,
 "nbformat_minor": 2
}
