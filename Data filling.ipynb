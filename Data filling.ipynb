{
 "cells": [
  {
   "cell_type": "code",
   "execution_count": null,
   "metadata": {},
   "outputs": [],
   "source": [
    "import pandas as pd"
   ]
  },
  {
   "cell_type": "code",
<<<<<<< HEAD
   "execution_count": null,
   "metadata": {},
   "outputs": [],
   "source": [
    "COD = pd.read_csv('/Users/jeandavidt/Prog_projects/Prog_phd/data_filtering/sample_data/treated_univar_COD.csv', sep=';')\n",
    "CODf = pd.read_csv('/Users/jeandavidt/Prog_projects/Prog_phd/data_filtering/sample_data/treated_univar_CODf.csv', sep=';')\n",
    "for df in COD, CODf:\n",
    "    df.columns = ['Time', 'raw', 'treated', 'deleted']\n",
    "    df.set_index('Time', inplace=True)\n",
    "    \n",
    "    df.index = pd.to_datetime(df.index)\n",
    "for name, df in {'COD':COD, 'CODf':CODf}.items():\n",
    "    df.columns = [' '.join((name, column)) for column in df.columns]\n",
    "df = COD.join(CODf, how='outer')\n",
    "df.head()"
   ]
  },
  {
   "cell_type": "code",
   "execution_count": null,
   "metadata": {},
   "outputs": [],
   "source": [
    "traces = []\n",
    "for col in df.columns:\n",
    "    if 'CODf' in col:\n",
    "        trace = go.Scattergl(\n",
    "            x=df.index,\n",
    "            y=df[col],\n",
    "            mode='lines',\n",
    "            name=col,\n",
    "            legendgroup='legend1'\n",
    "        )\n",
    "    else:\n",
    "        trace = go.Scattergl(\n",
    "            x=df.index,\n",
    "            y=df[col],\n",
    "            mode='lines',\n",
    "            name=col,\n",
    "            legendgroup='leg2'\n",
    "        )\n",
    "    traces.append(trace)\n",
    "layout = go.Layout(\n",
    "\n",
    ")\n",
    "fig=go.Figure(data=traces, layout=go.Layout())\n",
    "fig.show()"
   ]
  },
  {
   "cell_type": "code",
   "execution_count": null,
   "metadata": {},
   "outputs": [],
   "source": [
    "pio.write_html(fig, 'fig1.html')"
   ]
  },
  {
   "cell_type": "code",
   "execution_count": null,
   "metadata": {},
   "outputs": [],
   "source": [
    "traces=[]\n",
    "fig=go.Figure()\n",
    "for column in df.columns:\n",
    "    series = df[column].groupby(pd.Grouper(freq='H')).mean()\n",
    "    fig.add_scattergl(\n",
    "        x=series.index,\n",
    "        y=series,\n",
    "        name=column,\n",
    "    )\n",
    "fig.show()\n"
=======
   "execution_count": 12,
   "metadata": {},
   "outputs": [],
   "source": [
    "COD = pd.read_csv('/Users/jeandavidt/Prog_projects/Prog_phd/data_filtering/sample_data/treated_univar_COD.csv', sep=';')\n",
    "CODf = pd.read_csv('/Users/jeandavidt/Prog_projects/Prog_phd/data_filtering/sample_data/treated_univar_CODf.csv', sep=';')"
>>>>>>> parent of 2a8e8f2... Merge branch 'master' of https://github.com/jeandavidt/datEAU_filtering
   ]
  },
  {
   "cell_type": "code",
<<<<<<< HEAD
   "execution_count": null,
   "metadata": {},
   "outputs": [],
=======
   "execution_count": 13,
   "metadata": {},
   "outputs": [
    {
     "ename": "SyntaxError",
     "evalue": "invalid syntax (<ipython-input-13-808aef6132ce>, line 2)",
     "output_type": "error",
     "traceback": [
      "\u001b[0;36m  File \u001b[0;32m\"<ipython-input-13-808aef6132ce>\"\u001b[0;36m, line \u001b[0;32m2\u001b[0m\n\u001b[0;31m    df.columns = ['Time', par+'_raw', par+'_treated', par+_'deleted']\u001b[0m\n\u001b[0m                                                                   ^\u001b[0m\n\u001b[0;31mSyntaxError\u001b[0m\u001b[0;31m:\u001b[0m invalid syntax\n"
     ]
    }
   ],
>>>>>>> parent of 2a8e8f2... Merge branch 'master' of https://github.com/jeandavidt/datEAU_filtering
   "source": [
    "for par, df in {'COD': COD, 'CODf': CODf}.items():\n",
    "    df.columns = ['Time', par+'_raw', par+'_treated', par+_'deleted']\n",
    "    df.set_index('Time', inplace=True)\n",
    "    print(df.head())"
   ]
  },
  {
   "cell_type": "code",
   "execution_count": null,
   "metadata": {},
   "outputs": [],
   "source": []
  }
 ],
 "metadata": {
  "kernelspec": {
   "display_name": "Python 3",
   "language": "python",
   "name": "python3"
  },
  "language_info": {
   "codemirror_mode": {
    "name": "ipython",
    "version": 3
   },
   "file_extension": ".py",
   "mimetype": "text/x-python",
   "name": "python",
   "nbconvert_exporter": "python",
   "pygments_lexer": "ipython3",
   "version": "3.7.3"
  }
 },
 "nbformat": 4,
 "nbformat_minor": 2
}
